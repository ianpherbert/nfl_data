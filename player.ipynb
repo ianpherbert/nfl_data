{
 "cells": [
  {
   "cell_type": "code",
   "execution_count": 4,
   "id": "9608e990-3743-49a4-8505-b8dec29f08dd",
   "metadata": {},
   "outputs": [
    {
     "name": "stdout",
     "output_type": "stream",
     "text": [
      "(12617, 2)\n"
     ]
    }
   ],
   "source": [
    "import requests\n",
    "import io\n",
    "import pandas as pd\n",
    "\n",
    "def find_one_player_by_name(name):\n",
    "    all_players = pd.read_csv(\"data.csv\")\n",
    "    filtered_players = all_players[all_players['Name'].str.lower().str.contains(name.lower())]\n",
    "    print(all_players.shape)\n",
    "\n",
    "find_one_player_by_name(\"Tim COUCH\")"
   ]
  },
  {
   "cell_type": "code",
   "execution_count": null,
   "id": "36671f43-5f72-44b7-b2e5-b4771cb9bee2",
   "metadata": {},
   "outputs": [],
   "source": [
    "all_players = pd.read_csv(\"data.csv\")"
   ]
  },
  {
   "cell_type": "code",
   "execution_count": null,
   "id": "adaa1dd3-031c-4c36-afaa-91b1f702630d",
   "metadata": {},
   "outputs": [],
   "source": []
  },
  {
   "cell_type": "code",
   "execution_count": null,
   "id": "0768262d-690f-41a1-9fff-13fa2d7d7946",
   "metadata": {},
   "outputs": [],
   "source": []
  }
 ],
 "metadata": {
  "kernelspec": {
   "display_name": "Python 3 (ipykernel)",
   "language": "python",
   "name": "python3"
  },
  "language_info": {
   "codemirror_mode": {
    "name": "ipython",
    "version": 3
   },
   "file_extension": ".py",
   "mimetype": "text/x-python",
   "name": "python",
   "nbconvert_exporter": "python",
   "pygments_lexer": "ipython3",
   "version": "3.11.7"
  }
 },
 "nbformat": 4,
 "nbformat_minor": 5
}
