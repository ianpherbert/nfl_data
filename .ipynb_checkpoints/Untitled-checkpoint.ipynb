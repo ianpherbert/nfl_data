{
 "cells": [
  {
   "cell_type": "code",
   "execution_count": 10,
   "id": "9608e990-3743-49a4-8505-b8dec29f08dd",
   "metadata": {},
   "outputs": [],
   "source": [
    "import requests\n",
    "import io\n",
    "import pandas as pd\n",
    "\n",
    "def get_all_player_data():\n",
    "    x = requests.get(\"https://raw.githubusercontent.com/ianpherbert/ESPN-API-Documentation/master/player_id%20.csv\")\n",
    "    data_io = io.StringIO(x.text)\n",
    "    df = pd.read_csv(data_io)\n",
    "    return df\n",
    "\n",
    "def find_one_player_by_name(name):\n",
    "    all_players = get_all_player_data()\n",
    "    filtered_players = all_players[all_players['Name'].str.lower().str.contains(name.lower())]\n",
    "    print(filtered_players)\n",
    "\n",
    "find_one_player_by_name(\"Tim COUCH\")"
   ]
  },
  {
   "cell_type": "code",
   "execution_count": 17,
   "id": "9c26d98e-2ea6-49f9-935c-cf371071dbf5",
   "metadata": {},
   "outputs": [],
   "source": [
    "def find_one_player_by_name(name):\n",
    "    all_players = get_all_player_data()\n",
    "    return all_players[all_players['Name'].str.lower().str.contains(name.lower())]"
   ]
  },
  {
   "cell_type": "code",
   "execution_count": null,
   "id": "0762d7f7-c827-4ca1-8332-7dfd1ce5c8d5",
   "metadata": {},
   "outputs": [],
   "source": []
  }
 ],
 "metadata": {
  "kernelspec": {
   "display_name": "Python 3 (ipykernel)",
   "language": "python",
   "name": "python3"
  },
  "language_info": {
   "codemirror_mode": {
    "name": "ipython",
    "version": 3
   },
   "file_extension": ".py",
   "mimetype": "text/x-python",
   "name": "python",
   "nbconvert_exporter": "python",
   "pygments_lexer": "ipython3",
   "version": "3.11.7"
  }
 },
 "nbformat": 4,
 "nbformat_minor": 5
}
